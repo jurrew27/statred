{
 "cells": [
  {
   "cell_type": "code",
   "execution_count": 49,
   "metadata": {
    "collapsed": false,
    "deletable": true,
    "editable": true,
    "scrolled": true
   },
   "outputs": [
    {
     "ename": "ValueError",
     "evalue": "shapes (625,10) and (1,625) not aligned: 10 (dim 1) != 1 (dim 0)",
     "output_type": "error",
     "traceback": [
      "\u001b[0;31m---------------------------------------------------------------------------\u001b[0m",
      "\u001b[0;31mValueError\u001b[0m                                Traceback (most recent call last)",
      "\u001b[0;32m<ipython-input-49-b85f8404e896>\u001b[0m in \u001b[0;36m<module>\u001b[0;34m()\u001b[0m\n\u001b[1;32m     50\u001b[0m \u001b[0;34m\u001b[0m\u001b[0m\n\u001b[1;32m     51\u001b[0m \u001b[0mx\u001b[0m \u001b[0;34m=\u001b[0m \u001b[0mdetails\u001b[0m\u001b[0;34m[\u001b[0m\u001b[0;36m42\u001b[0m\u001b[0;34m,\u001b[0m\u001b[0;34m:\u001b[0m\u001b[0;34m]\u001b[0m\u001b[0;34m\u001b[0m\u001b[0m\n\u001b[0;32m---> 52\u001b[0;31m \u001b[0mx_k\u001b[0m \u001b[0;34m=\u001b[0m \u001b[0mremoveDimensions\u001b[0m\u001b[0;34m(\u001b[0m\u001b[0;36m42\u001b[0m\u001b[0;34m,\u001b[0m \u001b[0;36m10\u001b[0m\u001b[0;34m)\u001b[0m\u001b[0;34m\u001b[0m\u001b[0m\n\u001b[0m\u001b[1;32m     53\u001b[0m \u001b[0mprint\u001b[0m\u001b[0;34m(\u001b[0m\u001b[0mnp\u001b[0m\u001b[0;34m.\u001b[0m\u001b[0mmean\u001b[0m\u001b[0;34m(\u001b[0m\u001b[0mx\u001b[0m\u001b[0;34m)\u001b[0m\u001b[0;34m,\u001b[0m \u001b[0mnp\u001b[0m\u001b[0;34m.\u001b[0m\u001b[0mstd\u001b[0m\u001b[0;34m(\u001b[0m\u001b[0mx\u001b[0m\u001b[0;34m)\u001b[0m\u001b[0;34m)\u001b[0m\u001b[0;34m\u001b[0m\u001b[0m\n\u001b[1;32m     54\u001b[0m \u001b[0mprint\u001b[0m\u001b[0;34m(\u001b[0m\u001b[0mnp\u001b[0m\u001b[0;34m.\u001b[0m\u001b[0mmean\u001b[0m\u001b[0;34m(\u001b[0m\u001b[0mx_k\u001b[0m\u001b[0;34m)\u001b[0m\u001b[0;34m,\u001b[0m \u001b[0mnp\u001b[0m\u001b[0;34m.\u001b[0m\u001b[0mstd\u001b[0m\u001b[0;34m(\u001b[0m\u001b[0mx_k\u001b[0m\u001b[0;34m)\u001b[0m\u001b[0;34m)\u001b[0m\u001b[0;34m\u001b[0m\u001b[0m\n",
      "\u001b[0;32m<ipython-input-49-b85f8404e896>\u001b[0m in \u001b[0;36mremoveDimensions\u001b[0;34m(detail, k)\u001b[0m\n\u001b[1;32m     46\u001b[0m \u001b[0;34m\u001b[0m\u001b[0m\n\u001b[1;32m     47\u001b[0m     \u001b[0myzm_k\u001b[0m \u001b[0;34m=\u001b[0m \u001b[0myzm\u001b[0m\u001b[0;34m[\u001b[0m\u001b[0;34m:\u001b[0m\u001b[0mk\u001b[0m\u001b[0;34m]\u001b[0m\u001b[0;34m\u001b[0m\u001b[0m\n\u001b[0;32m---> 48\u001b[0;31m     \u001b[0mxzm_k\u001b[0m \u001b[0;34m=\u001b[0m \u001b[0mnp\u001b[0m\u001b[0;34m.\u001b[0m\u001b[0mdot\u001b[0m\u001b[0;34m(\u001b[0m\u001b[0mU\u001b[0m\u001b[0;34m[\u001b[0m\u001b[0;34m:\u001b[0m\u001b[0;34m,\u001b[0m\u001b[0;34m:\u001b[0m\u001b[0mk\u001b[0m\u001b[0;34m]\u001b[0m\u001b[0;34m,\u001b[0m \u001b[0myzm_k\u001b[0m\u001b[0;34m)\u001b[0m\u001b[0;34m\u001b[0m\u001b[0m\n\u001b[0m\u001b[1;32m     49\u001b[0m     \u001b[0;32mreturn\u001b[0m \u001b[0mxzm_k\u001b[0m \u001b[0;34m+\u001b[0m \u001b[0mmean\u001b[0m\u001b[0;34m\u001b[0m\u001b[0m\n\u001b[1;32m     50\u001b[0m \u001b[0;34m\u001b[0m\u001b[0m\n",
      "\u001b[0;31mValueError\u001b[0m: shapes (625,10) and (1,625) not aligned: 10 (dim 1) != 1 (dim 0)"
     ]
    }
   ],
   "source": [
    "from pylab import *\n",
    "import numpy as np\n",
    "\n",
    "baseImg = imread('data/trui.png')\n",
    "\n",
    "detailSize = 25\n",
    "\n",
    "def sortedeig(M):\n",
    "    d, U = eig(M)\n",
    "    si = argsort(d)[-1::-1]\n",
    "    d = d[si]\n",
    "    U = U[:,si]\n",
    "    return (d,U)\n",
    "\n",
    "flattenedLength = baseImg.shape[0] - detailSize\n",
    "flattenedWidth = baseImg.shape[1] - detailSize\n",
    "details = np.zeros((flattenedLength * flattenedWidth, detailSize ** 2))\n",
    "\n",
    "mean = np.zeros(detailSize ** 2)\n",
    "cov = np.zeros((detailSize ** 2, detailSize ** 2))\n",
    "for i in range(flattenedLength):\n",
    "    for j in range(flattenedWidth):\n",
    "        detail = baseImg[i:i + detailSize, j:j + detailSize].flatten()\n",
    "        details[i * j,:] = detail\n",
    "        \n",
    "        mean += detail\n",
    "        cov += np.dot(np.matrix(detail).T, np.matrix(detail))\n",
    "\n",
    "mean /= len(mean)\n",
    "cov = cov - len(mean) * np.dot(np.matrix(mean).T, np.matrix(mean))\n",
    "cov /= len(mean) - 1\n",
    "\n",
    "def sortedeig(M):\n",
    "    d, U = eig(M)\n",
    "    si = argsort(d)[-1::-1]\n",
    "    d = d[si]\n",
    "    U = U[:,si]\n",
    "    return (d,U)\n",
    "\n",
    "d, U = sortedeig(cov)\n",
    "\n",
    "def removeDimensions(detail, k):\n",
    "    x = details[detail,:]\n",
    "    xzm = x - mean\n",
    "    yzm = np.dot(np.transpose(U), xzm)\n",
    "\n",
    "    yzm_k = yzm[:k]\n",
    "    xzm_k = np.dot(U[:,:k], yzm_k)\n",
    "    return xzm_k + mean\n",
    "    \n",
    "x = details[42,:]\n",
    "x_k = removeDimensions(42, 10)\n",
    "print(np.mean(x), np.std(x))\n",
    "print(np.mean(x_k), np.std(x_k))\n",
    "print(np.mean(details[93,:]), np.std(details[93,:]))"
   ]
  },
  {
   "cell_type": "code",
   "execution_count": 53,
   "metadata": {
    "collapsed": false
   },
   "outputs": [
    {
     "name": "stdout",
     "output_type": "stream",
     "text": [
      "0.598412572908 0.0835141368287\n",
      "0.598410037091 0.0812837883723\n",
      "0.658873745012 0.0689093400481\n"
     ]
    }
   ],
   "source": [
    "from pylab import *\n",
    "import numpy as np\n",
    "\n",
    "baseImg = imread('data/trui.png')\n",
    "\n",
    "detailSize = 25\n",
    "\n",
    "flattenedLength = baseImg.shape[0] - detailSize\n",
    "flattenedWidth = baseImg.shape[1] - detailSize\n",
    "details = np.zeros((flattenedLength * flattenedWidth, detailSize ** 2))\n",
    "\n",
    "for i in range(flattenedLength):\n",
    "    for j in range(flattenedWidth):\n",
    "        detail = baseImg[i:i + detailSize, j:j + detailSize].flatten()\n",
    "        details[i * j,:] = detail\n",
    "\n",
    "mean = np.mean(details, axis=0)\n",
    "cov = np.cov(details, rowvar=False)\n",
    "\n",
    "def sortedeig(M):\n",
    "    d, U = eig(M)\n",
    "    si = argsort(d)[-1::-1]\n",
    "    d = d[si]\n",
    "    U = U[:,si]\n",
    "    return (d,U)\n",
    "\n",
    "d, U = sortedeig(cov)\n",
    "\n",
    "def removeDimensions(detail, k):\n",
    "    x = details[detail,:]\n",
    "    xzm = x - mean\n",
    "    yzm = np.dot(np.transpose(U), xzm)\n",
    "\n",
    "    yzm_k = yzm[:k]\n",
    "    xzm_k = np.dot(U[:,:k], yzm_k)\n",
    "    x_k = xzm_k + mean\n",
    "    return x_k\n",
    "    \n",
    "x = details[42,:]\n",
    "x_k = removeDimensions(42, 10)\n",
    "print(np.mean(x), np.std(x))\n",
    "print(np.mean(x_k), np.std(x_k))\n",
    "print(np.mean(details[93,:]), np.std(details[93,:]))"
   ]
  },
  {
   "cell_type": "code",
   "execution_count": null,
   "metadata": {
    "collapsed": true
   },
   "outputs": [],
   "source": []
  }
 ],
 "metadata": {
  "kernelspec": {
   "display_name": "Python 3",
   "language": "python",
   "name": "python3"
  }
 },
 "nbformat": 4,
 "nbformat_minor": 2
}
