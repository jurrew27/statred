{
 "cells": [
  {
   "cell_type": "code",
   "execution_count": null,
   "metadata": {
    "collapsed": false,
    "deletable": true,
    "editable": true
   },
   "outputs": [],
   "source": [
    "from pylab import *\n",
    "import numpy as np\n",
    "\n",
    "baseImg = imread('data/trui.png')\n",
    "\n",
    "detailSize = 25\n",
    "print('hallo')\n",
    "\n",
    "flattenedLength = baseImg.shape[0] - detailSize\n",
    "flattenedWidth = baseImg.shape[1] - detailSize\n",
    "details = np.zeros((flattenedLength * flattenedWidth, detailSize ** 2))\n",
    "\n",
    "mean = np.zeros(detailSize ** 2)\n",
    "cov = np.zeros((detailSize ** 2, detailSize ** 2))\n",
    "for i in range(flattenedLength):\n",
    "    for j in range(flattenedWidth):\n",
    "        detail = baseImg[i:i + detailSize, j:j + detailSize].flatten()\n",
    "        details[i * j,:] = detail\n",
    "        \n",
    "        mean = np.add(mean, detail)\n",
    "        cov = np.add(cov, np.dot(np.array([detail]).T, np.array([detail])))\n",
    "        print(cov)\n",
    "\n",
    "\n",
    "print(details)"
   ]
  },
  {
   "cell_type": "code",
   "execution_count": null,
   "metadata": {
    "collapsed": true,
    "deletable": true,
    "editable": true
   },
   "outputs": [],
   "source": []
  }
 ],
 "metadata": {
  "kernelspec": {
   "display_name": "Python 3",
   "language": "python",
   "name": "python3"
  },
  "language_info": {
   "codemirror_mode": {
    "name": "ipython",
    "version": 3
   },
   "file_extension": ".py",
   "mimetype": "text/x-python",
   "name": "python",
   "nbconvert_exporter": "python",
   "pygments_lexer": "ipython3",
   "version": "3.5.2"
  }
 },
 "nbformat": 4,
 "nbformat_minor": 2
}
