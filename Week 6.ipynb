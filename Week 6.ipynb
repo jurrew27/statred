{
 "cells": [
  {
   "cell_type": "code",
   "execution_count": 66,
   "metadata": {
    "collapsed": true
   },
   "outputs": [
    {
     "data": {
      "image/png": "[encoded data removed]",
      "text/plain": [
       "<matplotlib.figure.Figure at 0x110178ba8>"
      ]
     },
     "metadata": {},
     "output_type": "display_data"
    }
   ],
   "source": [
    "import numpy as np\n",
    "import matplotlib.pyplot as plt\n",
    "\n",
    "\n",
    "def normal(x, mu, sigma):\n",
    "    return np.exp(-((x - mu) ** 2) / (2 * (sigma ** 2))) / (sigma * np.sqrt(2 * np.pi))\n",
    "\n",
    "\n",
    "x = np.arange(-5, 15, 0.05)\n",
    "\n",
    "pxc1 = normal(x, 4, 1) * 0.3\n",
    "plt.plot(x, pxc1, 'b-', label=r'$p_{XC}(x, C = 1)$')\n",
    "\n",
    "pxc2 = normal(x, 7, 1.5) * 0.7\n",
    "plt.plot(x, pxc2, 'r-', label=r'$p_{XC}(x, C = 2)$')\n",
    "\n",
    "px = pxc1 + pxc2\n",
    "p1 = pxc1 / px\n",
    "p2 = pxc2 / px\n",
    "\n",
    "plt.plot(x, p1, 'b--', label=r'$P(C = 1 | x)$')\n",
    "plt.plot(x, p2, 'r--', label=r'$P(C = 2 | x)$')\n",
    "\n",
    "plt.xlabel('x')\n",
    "plt.ylim(0, 1)\n",
    "plt.legend()\n",
    "plt.show()"
   ]
  },
  {
   "cell_type": "markdown",
   "metadata": {},
   "source": [
    "\n",
    "1\n",
    "\n",
    "$ p_{XC}(x, C = 1) = N(\\sigma_1, \\mu_1) \\cdot  P(C = 1) = \\frac{1}{\\sigma  \\sqrt{2\\pi}}e^{-\\frac{(x - \\mu)^2}{2\\sigma^2}} \\cdot 0.3 $\n",
    "\n",
    "$ P(C = 1 | x) = \\frac{p_{XC}(x, C = 1)}{p_X (x)} $ with $p_X (x) = N(\\sigma_1, \\mu_1) + N(\\sigma_2, \\mu_2)$\n",
    "\n",
    "2\n",
    "\n",
    "$ p_{XC}(x, C = 2) = N(\\sigma_2, \\mu_2) \\cdot  P(C = 2) = \\frac{1}{\\sigma  \\sqrt{2\\pi}}e^{-\\frac{(x - \\mu)^2}{2\\sigma^2}} \\cdot 0.7 $\n",
    "\n",
    "$ P(C = 2 | x) = \\frac{p_{XC}(x, C = 2)}{p_X (x)} $ with same $p_X (x) = N(\\sigma_1, \\mu_1) + N(\\sigma_2, \\mu_2)$"
   ]
  },
  {
   "cell_type": "code",
   "execution_count": 251,
   "metadata": {},
   "outputs": [
    {
     "name": "stdout",
     "output_type": "stream",
     "text": [
      "Classified 93.3% of test set correctly.\n"
     ]
    }
   ],
   "source": [
    "from sklearn import datasets\n",
    "iris = datasets.load_iris()\n",
    "\n",
    "\n",
    "def normal(x, mu, sigma):\n",
    "    return np.exp(-((x - mu) ** 2) / (2 * (sigma ** 2))) / (sigma * np.sqrt(2 * np.pi))\n",
    "\n",
    "\n",
    "def prob(data, c, x):\n",
    "    features = data[c]\n",
    "    prob = 1\n",
    "\n",
    "    for i in range(features.shape[1]):\n",
    "        prob *= normal(x[i], np.mean(features[:, i]), np.std(features[:, i]))\n",
    "    return prob\n",
    "\n",
    "\n",
    "def dictify(X):\n",
    "    irisDict = {}\n",
    "    for i in range(3):\n",
    "        irisDict[i] = X[np.where(trainY == i)]\n",
    "    return irisDict\n",
    "\n",
    "\n",
    "def classify(data, x):\n",
    "    bestProb = 0\n",
    "    bestMatch = -1\n",
    "    for classNr in range(len(data)):\n",
    "        thisProb = prob(data, classNr, x)\n",
    "        if thisProb > bestProb:\n",
    "            bestMatch = classNr\n",
    "            bestProb = thisProb\n",
    "    return bestMatch\n",
    "\n",
    "\n",
    "X = iris.data\n",
    "Y = iris.target\n",
    "n = len(Y)\n",
    "\n",
    "indices = np.random.permutation(n)  # Get random indices for training set\n",
    "trainSize = 70  # Percentage to use for training set\n",
    "splitIndex = int(trainSize * (n / 100))\n",
    "training_idx, test_idx = indices[:splitIndex], indices[splitIndex:]\n",
    "\n",
    "trainX = X[training_idx]\n",
    "testX = X[test_idx]\n",
    "\n",
    "trainY = Y[training_idx]\n",
    "testY = Y[test_idx]\n",
    "\n",
    "trainData = dictify(trainX)\n",
    "\n",
    "corrects = 0\n",
    "for i in range(len(testY)):\n",
    "    if classify(trainData, testX[i]) == testY[i]:\n",
    "        corrects += 1\n",
    "\n",
    "accuracy = 100 * corrects / len(testY)\n",
    "print(\"Classified %.1f%% of test set correctly.\" % accuracy)"
   ]
  },
  {
   "cell_type": "code",
   "execution_count": 243,
   "metadata": {},
   "outputs": [],
   "source": [
    ""
   ]
  },
  {
   "cell_type": "code",
   "execution_count": 243,
   "metadata": {},
   "outputs": [],
   "source": [
    ""
   ]
  },
  {
   "cell_type": "code",
   "execution_count": null,
   "metadata": {},
   "outputs": [],
   "source": [
    ""
   ]
  }
 ],
 "metadata": {
  "kernelspec": {
   "display_name": "Python 2",
   "language": "python",
   "name": "python2"
  },
  "language_info": {
   "codemirror_mode": {
    "name": "ipython",
    "version": 2.0
   },
   "file_extension": ".py",
   "mimetype": "text/x-python",
   "name": "python",
   "nbconvert_exporter": "python",
   "pygments_lexer": "ipython2",
   "version": "2.7.6"
  }
 },
 "nbformat": 4,
 "nbformat_minor": 0
}